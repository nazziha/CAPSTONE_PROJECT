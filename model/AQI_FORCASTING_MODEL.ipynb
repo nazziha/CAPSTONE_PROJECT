{
 "cells": [
  {
   "cell_type": "code",
   "execution_count": 11,
   "metadata": {},
   "outputs": [
    {
     "data": {
      "text/plain": [
       "['scaler_forecase_aqi.pkl']"
      ]
     },
     "execution_count": 11,
     "metadata": {},
     "output_type": "execute_result"
    }
   ],
   "source": [
    "import pandas as pd\n",
    "import numpy as np\n",
    "from sklearn.model_selection import train_test_split\n",
    "from sklearn.preprocessing import StandardScaler\n",
    "from tensorflow.keras.models import Sequential\n",
    "from tensorflow.keras.optimizers import Adam\n",
    "from tensorflow.keras.losses import MeanSquaredError\n",
    "from tensorflow.keras.metrics import MeanAbsoluteError\n",
    "from tensorflow.keras.layers import Dense\n",
    "\n",
    "data = pd.read_csv('combined_data_aqi.csv')\n",
    "\n",
    "features = ['co', 'so2', 'nh3', 'pm2_5']\n",
    "target = 'aqi'\n",
    "\n",
    "X = data[features]\n",
    "y = data[target]\n",
    "\n",
    "X_train, X_test, y_train, y_test = train_test_split(X, y, test_size=0.2, random_state=42)\n",
    "\n",
    "scaler = StandardScaler()\n",
    "X_train_scaled = scaler.fit_transform(X_train)\n",
    "X_test_scaled = scaler.transform(X_test)\n",
    "\n",
    "import joblib\n",
    "joblib.dump(scaler, 'scaler_forecase_aqi.pkl')\n"
   ]
  },
  {
   "cell_type": "code",
   "execution_count": 12,
   "metadata": {},
   "outputs": [
    {
     "name": "stderr",
     "output_type": "stream",
     "text": [
      "c:\\Users\\oi\\AppData\\Local\\Programs\\Python\\Python311\\Lib\\site-packages\\keras\\src\\layers\\core\\dense.py:87: UserWarning: Do not pass an `input_shape`/`input_dim` argument to a layer. When using Sequential models, prefer using an `Input(shape)` object as the first layer in the model instead.\n",
      "  super().__init__(activity_regularizer=activity_regularizer, **kwargs)\n"
     ]
    },
    {
     "name": "stdout",
     "output_type": "stream",
     "text": [
      "Epoch 1/50\n",
      "\u001b[1m4138/4138\u001b[0m \u001b[32m━━━━━━━━━━━━━━━━━━━━\u001b[0m\u001b[37m\u001b[0m \u001b[1m25s\u001b[0m 5ms/step - loss: 0.3412 - mean_absolute_error: 0.2733 - val_loss: 0.0439 - val_mean_absolute_error: 0.1132\n",
      "Epoch 2/50\n",
      "\u001b[1m4138/4138\u001b[0m \u001b[32m━━━━━━━━━━━━━━━━━━━━\u001b[0m\u001b[37m\u001b[0m \u001b[1m23s\u001b[0m 5ms/step - loss: 0.0390 - mean_absolute_error: 0.1032 - val_loss: 0.0353 - val_mean_absolute_error: 0.0928\n",
      "Epoch 3/50\n",
      "\u001b[1m4138/4138\u001b[0m \u001b[32m━━━━━━━━━━━━━━━━━━━━\u001b[0m\u001b[37m\u001b[0m \u001b[1m22s\u001b[0m 5ms/step - loss: 0.0329 - mean_absolute_error: 0.0881 - val_loss: 0.0328 - val_mean_absolute_error: 0.0794\n",
      "Epoch 4/50\n",
      "\u001b[1m4138/4138\u001b[0m \u001b[32m━━━━━━━━━━━━━━━━━━━━\u001b[0m\u001b[37m\u001b[0m \u001b[1m41s\u001b[0m 5ms/step - loss: 0.0291 - mean_absolute_error: 0.0768 - val_loss: 0.0289 - val_mean_absolute_error: 0.0732\n",
      "Epoch 5/50\n",
      "\u001b[1m4138/4138\u001b[0m \u001b[32m━━━━━━━━━━━━━━━━━━━━\u001b[0m\u001b[37m\u001b[0m \u001b[1m23s\u001b[0m 6ms/step - loss: 0.0267 - mean_absolute_error: 0.0693 - val_loss: 0.0276 - val_mean_absolute_error: 0.0697\n",
      "Epoch 6/50\n",
      "\u001b[1m4138/4138\u001b[0m \u001b[32m━━━━━━━━━━━━━━━━━━━━\u001b[0m\u001b[37m\u001b[0m \u001b[1m40s\u001b[0m 5ms/step - loss: 0.0256 - mean_absolute_error: 0.0656 - val_loss: 0.0255 - val_mean_absolute_error: 0.0679\n",
      "Epoch 7/50\n",
      "\u001b[1m4138/4138\u001b[0m \u001b[32m━━━━━━━━━━━━━━━━━━━━\u001b[0m\u001b[37m\u001b[0m \u001b[1m22s\u001b[0m 5ms/step - loss: 0.0249 - mean_absolute_error: 0.0619 - val_loss: 0.0236 - val_mean_absolute_error: 0.0549\n",
      "Epoch 8/50\n",
      "\u001b[1m4138/4138\u001b[0m \u001b[32m━━━━━━━━━━━━━━━━━━━━\u001b[0m\u001b[37m\u001b[0m \u001b[1m22s\u001b[0m 5ms/step - loss: 0.0233 - mean_absolute_error: 0.0584 - val_loss: 0.0241 - val_mean_absolute_error: 0.0553\n",
      "Epoch 9/50\n",
      "\u001b[1m4138/4138\u001b[0m \u001b[32m━━━━━━━━━━━━━━━━━━━━\u001b[0m\u001b[37m\u001b[0m \u001b[1m42s\u001b[0m 6ms/step - loss: 0.0233 - mean_absolute_error: 0.0581 - val_loss: 0.0240 - val_mean_absolute_error: 0.0558\n",
      "Epoch 10/50\n",
      "\u001b[1m4138/4138\u001b[0m \u001b[32m━━━━━━━━━━━━━━━━━━━━\u001b[0m\u001b[37m\u001b[0m \u001b[1m23s\u001b[0m 6ms/step - loss: 0.0231 - mean_absolute_error: 0.0571 - val_loss: 0.0263 - val_mean_absolute_error: 0.0640\n",
      "Epoch 11/50\n",
      "\u001b[1m4138/4138\u001b[0m \u001b[32m━━━━━━━━━━━━━━━━━━━━\u001b[0m\u001b[37m\u001b[0m \u001b[1m42s\u001b[0m 6ms/step - loss: 0.0226 - mean_absolute_error: 0.0552 - val_loss: 0.0235 - val_mean_absolute_error: 0.0557\n",
      "Epoch 12/50\n",
      "\u001b[1m4138/4138\u001b[0m \u001b[32m━━━━━━━━━━━━━━━━━━━━\u001b[0m\u001b[37m\u001b[0m \u001b[1m40s\u001b[0m 6ms/step - loss: 0.0230 - mean_absolute_error: 0.0557 - val_loss: 0.0274 - val_mean_absolute_error: 0.0713\n",
      "Epoch 13/50\n",
      "\u001b[1m4138/4138\u001b[0m \u001b[32m━━━━━━━━━━━━━━━━━━━━\u001b[0m\u001b[37m\u001b[0m \u001b[1m24s\u001b[0m 6ms/step - loss: 0.0226 - mean_absolute_error: 0.0544 - val_loss: 0.0238 - val_mean_absolute_error: 0.0495\n",
      "Epoch 14/50\n",
      "\u001b[1m4138/4138\u001b[0m \u001b[32m━━━━━━━━━━━━━━━━━━━━\u001b[0m\u001b[37m\u001b[0m \u001b[1m24s\u001b[0m 6ms/step - loss: 0.0219 - mean_absolute_error: 0.0527 - val_loss: 0.0249 - val_mean_absolute_error: 0.0502\n",
      "Epoch 15/50\n",
      "\u001b[1m4138/4138\u001b[0m \u001b[32m━━━━━━━━━━━━━━━━━━━━\u001b[0m\u001b[37m\u001b[0m \u001b[1m41s\u001b[0m 6ms/step - loss: 0.0227 - mean_absolute_error: 0.0545 - val_loss: 0.0227 - val_mean_absolute_error: 0.0536\n",
      "Epoch 16/50\n",
      "\u001b[1m4138/4138\u001b[0m \u001b[32m━━━━━━━━━━━━━━━━━━━━\u001b[0m\u001b[37m\u001b[0m \u001b[1m24s\u001b[0m 6ms/step - loss: 0.0219 - mean_absolute_error: 0.0528 - val_loss: 0.0226 - val_mean_absolute_error: 0.0551\n",
      "Epoch 17/50\n",
      "\u001b[1m4138/4138\u001b[0m \u001b[32m━━━━━━━━━━━━━━━━━━━━\u001b[0m\u001b[37m\u001b[0m \u001b[1m23s\u001b[0m 6ms/step - loss: 0.0214 - mean_absolute_error: 0.0517 - val_loss: 0.0240 - val_mean_absolute_error: 0.0494\n",
      "Epoch 18/50\n",
      "\u001b[1m4138/4138\u001b[0m \u001b[32m━━━━━━━━━━━━━━━━━━━━\u001b[0m\u001b[37m\u001b[0m \u001b[1m25s\u001b[0m 6ms/step - loss: 0.0214 - mean_absolute_error: 0.0513 - val_loss: 0.0237 - val_mean_absolute_error: 0.0556\n",
      "Epoch 19/50\n",
      "\u001b[1m4138/4138\u001b[0m \u001b[32m━━━━━━━━━━━━━━━━━━━━\u001b[0m\u001b[37m\u001b[0m \u001b[1m24s\u001b[0m 6ms/step - loss: 0.0217 - mean_absolute_error: 0.0521 - val_loss: 0.0228 - val_mean_absolute_error: 0.0521\n",
      "Epoch 20/50\n",
      "\u001b[1m4138/4138\u001b[0m \u001b[32m━━━━━━━━━━━━━━━━━━━━\u001b[0m\u001b[37m\u001b[0m \u001b[1m23s\u001b[0m 6ms/step - loss: 0.0217 - mean_absolute_error: 0.0513 - val_loss: 0.0214 - val_mean_absolute_error: 0.0549\n",
      "Epoch 21/50\n",
      "\u001b[1m4138/4138\u001b[0m \u001b[32m━━━━━━━━━━━━━━━━━━━━\u001b[0m\u001b[37m\u001b[0m \u001b[1m24s\u001b[0m 6ms/step - loss: 0.0217 - mean_absolute_error: 0.0518 - val_loss: 0.0225 - val_mean_absolute_error: 0.0512\n",
      "Epoch 22/50\n",
      "\u001b[1m4138/4138\u001b[0m \u001b[32m━━━━━━━━━━━━━━━━━━━━\u001b[0m\u001b[37m\u001b[0m \u001b[1m22s\u001b[0m 5ms/step - loss: 0.0217 - mean_absolute_error: 0.0512 - val_loss: 0.0239 - val_mean_absolute_error: 0.0543\n",
      "Epoch 23/50\n",
      "\u001b[1m4138/4138\u001b[0m \u001b[32m━━━━━━━━━━━━━━━━━━━━\u001b[0m\u001b[37m\u001b[0m \u001b[1m24s\u001b[0m 6ms/step - loss: 0.0220 - mean_absolute_error: 0.0525 - val_loss: 0.0224 - val_mean_absolute_error: 0.0504\n",
      "Epoch 24/50\n",
      "\u001b[1m4138/4138\u001b[0m \u001b[32m━━━━━━━━━━━━━━━━━━━━\u001b[0m\u001b[37m\u001b[0m \u001b[1m41s\u001b[0m 6ms/step - loss: 0.0214 - mean_absolute_error: 0.0502 - val_loss: 0.0225 - val_mean_absolute_error: 0.0487\n",
      "Epoch 25/50\n",
      "\u001b[1m4138/4138\u001b[0m \u001b[32m━━━━━━━━━━━━━━━━━━━━\u001b[0m\u001b[37m\u001b[0m \u001b[1m23s\u001b[0m 5ms/step - loss: 0.0209 - mean_absolute_error: 0.0494 - val_loss: 0.0216 - val_mean_absolute_error: 0.0487\n",
      "Epoch 26/50\n",
      "\u001b[1m4138/4138\u001b[0m \u001b[32m━━━━━━━━━━━━━━━━━━━━\u001b[0m\u001b[37m\u001b[0m \u001b[1m45s\u001b[0m 11ms/step - loss: 0.0209 - mean_absolute_error: 0.0502 - val_loss: 0.0214 - val_mean_absolute_error: 0.0452\n",
      "Epoch 27/50\n",
      "\u001b[1m4138/4138\u001b[0m \u001b[32m━━━━━━━━━━━━━━━━━━━━\u001b[0m\u001b[37m\u001b[0m \u001b[1m66s\u001b[0m 7ms/step - loss: 0.0204 - mean_absolute_error: 0.0487 - val_loss: 0.0221 - val_mean_absolute_error: 0.0542\n",
      "Epoch 28/50\n",
      "\u001b[1m4138/4138\u001b[0m \u001b[32m━━━━━━━━━━━━━━━━━━━━\u001b[0m\u001b[37m\u001b[0m \u001b[1m27s\u001b[0m 7ms/step - loss: 0.0210 - mean_absolute_error: 0.0500 - val_loss: 0.0246 - val_mean_absolute_error: 0.0592\n",
      "Epoch 29/50\n",
      "\u001b[1m4138/4138\u001b[0m \u001b[32m━━━━━━━━━━━━━━━━━━━━\u001b[0m\u001b[37m\u001b[0m \u001b[1m29s\u001b[0m 7ms/step - loss: 0.0208 - mean_absolute_error: 0.0495 - val_loss: 0.0217 - val_mean_absolute_error: 0.0423\n",
      "Epoch 30/50\n",
      "\u001b[1m4138/4138\u001b[0m \u001b[32m━━━━━━━━━━━━━━━━━━━━\u001b[0m\u001b[37m\u001b[0m \u001b[1m26s\u001b[0m 6ms/step - loss: 0.0206 - mean_absolute_error: 0.0494 - val_loss: 0.0212 - val_mean_absolute_error: 0.0489\n",
      "Epoch 31/50\n",
      "\u001b[1m4138/4138\u001b[0m \u001b[32m━━━━━━━━━━━━━━━━━━━━\u001b[0m\u001b[37m\u001b[0m \u001b[1m26s\u001b[0m 6ms/step - loss: 0.0207 - mean_absolute_error: 0.0489 - val_loss: 0.0211 - val_mean_absolute_error: 0.0398\n",
      "Epoch 32/50\n",
      "\u001b[1m4138/4138\u001b[0m \u001b[32m━━━━━━━━━━━━━━━━━━━━\u001b[0m\u001b[37m\u001b[0m \u001b[1m27s\u001b[0m 6ms/step - loss: 0.0205 - mean_absolute_error: 0.0487 - val_loss: 0.0212 - val_mean_absolute_error: 0.0492\n",
      "Epoch 33/50\n",
      "\u001b[1m4138/4138\u001b[0m \u001b[32m━━━━━━━━━━━━━━━━━━━━\u001b[0m\u001b[37m\u001b[0m \u001b[1m26s\u001b[0m 6ms/step - loss: 0.0209 - mean_absolute_error: 0.0496 - val_loss: 0.0217 - val_mean_absolute_error: 0.0476\n",
      "Epoch 34/50\n",
      "\u001b[1m4138/4138\u001b[0m \u001b[32m━━━━━━━━━━━━━━━━━━━━\u001b[0m\u001b[37m\u001b[0m \u001b[1m27s\u001b[0m 6ms/step - loss: 0.0212 - mean_absolute_error: 0.0496 - val_loss: 0.0215 - val_mean_absolute_error: 0.0435\n",
      "Epoch 35/50\n",
      "\u001b[1m4138/4138\u001b[0m \u001b[32m━━━━━━━━━━━━━━━━━━━━\u001b[0m\u001b[37m\u001b[0m \u001b[1m27s\u001b[0m 6ms/step - loss: 0.0209 - mean_absolute_error: 0.0486 - val_loss: 0.0216 - val_mean_absolute_error: 0.0470\n",
      "Epoch 36/50\n",
      "\u001b[1m4138/4138\u001b[0m \u001b[32m━━━━━━━━━━━━━━━━━━━━\u001b[0m\u001b[37m\u001b[0m \u001b[1m26s\u001b[0m 6ms/step - loss: 0.0206 - mean_absolute_error: 0.0488 - val_loss: 0.0217 - val_mean_absolute_error: 0.0452\n",
      "Epoch 37/50\n",
      "\u001b[1m4138/4138\u001b[0m \u001b[32m━━━━━━━━━━━━━━━━━━━━\u001b[0m\u001b[37m\u001b[0m \u001b[1m25s\u001b[0m 6ms/step - loss: 0.0200 - mean_absolute_error: 0.0474 - val_loss: 0.0211 - val_mean_absolute_error: 0.0498\n",
      "Epoch 38/50\n",
      "\u001b[1m4138/4138\u001b[0m \u001b[32m━━━━━━━━━━━━━━━━━━━━\u001b[0m\u001b[37m\u001b[0m \u001b[1m76s\u001b[0m 18ms/step - loss: 0.0209 - mean_absolute_error: 0.0489 - val_loss: 0.0211 - val_mean_absolute_error: 0.0450\n",
      "Epoch 39/50\n",
      "\u001b[1m4138/4138\u001b[0m \u001b[32m━━━━━━━━━━━━━━━━━━━━\u001b[0m\u001b[37m\u001b[0m \u001b[1m34s\u001b[0m 7ms/step - loss: 0.0202 - mean_absolute_error: 0.0475 - val_loss: 0.0218 - val_mean_absolute_error: 0.0491\n",
      "Epoch 40/50\n",
      "\u001b[1m4138/4138\u001b[0m \u001b[32m━━━━━━━━━━━━━━━━━━━━\u001b[0m\u001b[37m\u001b[0m \u001b[1m41s\u001b[0m 7ms/step - loss: 0.0206 - mean_absolute_error: 0.0483 - val_loss: 0.0215 - val_mean_absolute_error: 0.0479\n",
      "Epoch 41/50\n",
      "\u001b[1m4138/4138\u001b[0m \u001b[32m━━━━━━━━━━━━━━━━━━━━\u001b[0m\u001b[37m\u001b[0m \u001b[1m55s\u001b[0m 10ms/step - loss: 0.0212 - mean_absolute_error: 0.0496 - val_loss: 0.0215 - val_mean_absolute_error: 0.0485\n",
      "Epoch 42/50\n",
      "\u001b[1m4138/4138\u001b[0m \u001b[32m━━━━━━━━━━━━━━━━━━━━\u001b[0m\u001b[37m\u001b[0m \u001b[1m98s\u001b[0m 14ms/step - loss: 0.0201 - mean_absolute_error: 0.0476 - val_loss: 0.0208 - val_mean_absolute_error: 0.0498\n",
      "Epoch 43/50\n",
      "\u001b[1m4138/4138\u001b[0m \u001b[32m━━━━━━━━━━━━━━━━━━━━\u001b[0m\u001b[37m\u001b[0m \u001b[1m45s\u001b[0m 11ms/step - loss: 0.0202 - mean_absolute_error: 0.0470 - val_loss: 0.0210 - val_mean_absolute_error: 0.0476\n",
      "Epoch 44/50\n",
      "\u001b[1m4138/4138\u001b[0m \u001b[32m━━━━━━━━━━━━━━━━━━━━\u001b[0m\u001b[37m\u001b[0m \u001b[1m78s\u001b[0m 10ms/step - loss: 0.0207 - mean_absolute_error: 0.0481 - val_loss: 0.0224 - val_mean_absolute_error: 0.0566\n",
      "Epoch 45/50\n",
      "\u001b[1m4138/4138\u001b[0m \u001b[32m━━━━━━━━━━━━━━━━━━━━\u001b[0m\u001b[37m\u001b[0m \u001b[1m40s\u001b[0m 10ms/step - loss: 0.0202 - mean_absolute_error: 0.0475 - val_loss: 0.0220 - val_mean_absolute_error: 0.0454\n",
      "Epoch 46/50\n",
      "\u001b[1m4138/4138\u001b[0m \u001b[32m━━━━━━━━━━━━━━━━━━━━\u001b[0m\u001b[37m\u001b[0m \u001b[1m64s\u001b[0m 15ms/step - loss: 0.0204 - mean_absolute_error: 0.0479 - val_loss: 0.0214 - val_mean_absolute_error: 0.0418\n",
      "Epoch 47/50\n",
      "\u001b[1m4138/4138\u001b[0m \u001b[32m━━━━━━━━━━━━━━━━━━━━\u001b[0m\u001b[37m\u001b[0m \u001b[1m68s\u001b[0m 12ms/step - loss: 0.0206 - mean_absolute_error: 0.0478 - val_loss: 0.0218 - val_mean_absolute_error: 0.0466\n",
      "Epoch 48/50\n",
      "\u001b[1m4138/4138\u001b[0m \u001b[32m━━━━━━━━━━━━━━━━━━━━\u001b[0m\u001b[37m\u001b[0m \u001b[1m72s\u001b[0m 17ms/step - loss: 0.0203 - mean_absolute_error: 0.0474 - val_loss: 0.0214 - val_mean_absolute_error: 0.0521\n",
      "Epoch 49/50\n",
      "\u001b[1m4138/4138\u001b[0m \u001b[32m━━━━━━━━━━━━━━━━━━━━\u001b[0m\u001b[37m\u001b[0m \u001b[1m35s\u001b[0m 6ms/step - loss: 0.0202 - mean_absolute_error: 0.0475 - val_loss: 0.0218 - val_mean_absolute_error: 0.0416\n",
      "Epoch 50/50\n",
      "\u001b[1m4138/4138\u001b[0m \u001b[32m━━━━━━━━━━━━━━━━━━━━\u001b[0m\u001b[37m\u001b[0m \u001b[1m33s\u001b[0m 8ms/step - loss: 0.0207 - mean_absolute_error: 0.0481 - val_loss: 0.0217 - val_mean_absolute_error: 0.0563\n"
     ]
    },
    {
     "name": "stderr",
     "output_type": "stream",
     "text": [
      "WARNING:absl:You are saving your model as an HDF5 file via `model.save()` or `keras.saving.save_model(model)`. This file format is considered legacy. We recommend using instead the native Keras format, e.g. `model.save('my_model.keras')` or `keras.saving.save_model(model, 'my_model.keras')`. \n"
     ]
    }
   ],
   "source": [
    "model = Sequential([\n",
    "    Dense(64, activation='relu', input_shape=(len(features),)),\n",
    "    Dense(32, activation='relu'),\n",
    "    Dense(16, activation='relu'),\n",
    "    Dense(7, activation='linear')\n",
    "])\n",
    "\n",
    "model.compile(optimizer=Adam(), loss=MeanSquaredError(), metrics=[MeanAbsoluteError()])\n",
    "\n",
    "history = model.fit(X_train_scaled, y_train, epochs=50, batch_size=32, validation_split=0.2)\n",
    "\n",
    "model.save('predict_7days_model.h5')\n"
   ]
  },
  {
   "cell_type": "code",
   "execution_count": 13,
   "metadata": {},
   "outputs": [
    {
     "name": "stderr",
     "output_type": "stream",
     "text": [
      "WARNING:absl:Compiled the loaded model, but the compiled metrics have yet to be built. `model.compile_metrics` will be empty until you train or evaluate the model.\n",
      "c:\\Users\\oi\\AppData\\Local\\Programs\\Python\\Python311\\Lib\\site-packages\\sklearn\\base.py:465: UserWarning: X does not have valid feature names, but StandardScaler was fitted with feature names\n",
      "  warnings.warn(\n"
     ]
    },
    {
     "name": "stdout",
     "output_type": "stream",
     "text": [
      "\u001b[1m1/1\u001b[0m \u001b[32m━━━━━━━━━━━━━━━━━━━━\u001b[0m\u001b[37m\u001b[0m \u001b[1m0s\u001b[0m 398ms/step\n",
      "Predicted AQI for the next 7 days: [3.1392567 3.1001961 3.0880551 3.0972595 3.0929694 3.1242514 3.1243958]\n"
     ]
    }
   ],
   "source": [
    "from tensorflow.keras.models import load_model\n",
    "\n",
    "model = load_model('predict_7days_model.h5')\n",
    "scaler = joblib.load('scaler.pkl')\n",
    "\n",
    "input_data = {\n",
    "    \"co\": 5000,\n",
    "    \"so2\": 30,\n",
    "    \"nh3\": 5,\n",
    "    \"pm2_5\": 40\n",
    "}\n",
    "\n",
    "input_features = np.array([[input_data['co'], input_data['so2'], input_data['nh3'], input_data['pm2_5']]])\n",
    "input_scaled = scaler.transform(input_features)\n",
    "\n",
    "predictions = model.predict(input_scaled)[0]\n",
    "\n",
    "print(\"Predicted AQI for the next 7 days:\", predictions)\n"
   ]
  }
 ],
 "metadata": {
  "kernelspec": {
   "display_name": "Python 3",
   "language": "python",
   "name": "python3"
  },
  "language_info": {
   "codemirror_mode": {
    "name": "ipython",
    "version": 3
   },
   "file_extension": ".py",
   "mimetype": "text/x-python",
   "name": "python",
   "nbconvert_exporter": "python",
   "pygments_lexer": "ipython3",
   "version": "3.11.2"
  }
 },
 "nbformat": 4,
 "nbformat_minor": 2
}
